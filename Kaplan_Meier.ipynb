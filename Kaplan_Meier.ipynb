{
 "cells": [
  {
   "cell_type": "markdown",
   "metadata": {},
   "source": [
    "# **Phương pháp Kaplan - Meier**\n",
    "********************************************************************************************************************"
   ]
  },
  {
   "cell_type": "markdown",
   "metadata": {},
   "source": [
    "# **Import thư viện và hiển thị kết quả**"
   ]
  },
  {
   "cell_type": "code",
   "execution_count": 1,
   "metadata": {},
   "outputs": [
    {
     "name": "stdout",
     "output_type": "stream",
     "text": [
      "<class 'pandas.core.frame.DataFrame'>\n",
      "RangeIndex: 10000 entries, 0 to 9999\n",
      "Data columns (total 14 columns):\n",
      " #   Column                   Non-Null Count  Dtype  \n",
      "---  ------                   --------------  -----  \n",
      " 0   UDI                      10000 non-null  int64  \n",
      " 1   Product ID               10000 non-null  object \n",
      " 2   Type                     10000 non-null  object \n",
      " 3   Air temperature [K]      10000 non-null  float64\n",
      " 4   Process temperature [K]  10000 non-null  float64\n",
      " 5   Rotational speed [rpm]   10000 non-null  int64  \n",
      " 6   Torque [Nm]              10000 non-null  float64\n",
      " 7   Tool wear [min]          10000 non-null  int64  \n",
      " 8   Machine failure          10000 non-null  int64  \n",
      " 9   TWF                      10000 non-null  int64  \n",
      " 10  HDF                      10000 non-null  int64  \n",
      " 11  PWF                      10000 non-null  int64  \n",
      " 12  OSF                      10000 non-null  int64  \n",
      " 13  RNF                      10000 non-null  int64  \n",
      "dtypes: float64(3), int64(9), object(2)\n",
      "memory usage: 1.1+ MB\n"
     ]
    },
    {
     "data": {
      "text/plain": [
       "(None,\n",
       "    UDI Product ID Type  Air temperature [K]  Process temperature [K]  \\\n",
       " 0    1     M14860    M                298.1                    308.6   \n",
       " 1    2     L47181    L                298.2                    308.7   \n",
       " 2    3     L47182    L                298.1                    308.5   \n",
       " 3    4     L47183    L                298.2                    308.6   \n",
       " 4    5     L47184    L                298.2                    308.7   \n",
       " \n",
       "    Rotational speed [rpm]  Torque [Nm]  Tool wear [min]  Machine failure  TWF  \\\n",
       " 0                    1551         42.8                0                0    0   \n",
       " 1                    1408         46.3                3                0    0   \n",
       " 2                    1498         49.4                5                0    0   \n",
       " 3                    1433         39.5                7                0    0   \n",
       " 4                    1408         40.0                9                0    0   \n",
       " \n",
       "    HDF  PWF  OSF  RNF  \n",
       " 0    0    0    0    0  \n",
       " 1    0    0    0    0  \n",
       " 2    0    0    0    0  \n",
       " 3    0    0    0    0  \n",
       " 4    0    0    0    0  )"
      ]
     },
     "execution_count": 1,
     "metadata": {},
     "output_type": "execute_result"
    }
   ],
   "source": [
    "import pandas as pd\n",
    "import numpy as np\n",
    "import matplotlib.pyplot as plt\n",
    "\n",
    "# Import data from file CSV\n",
    "file_path = 'D:/Code ĐA2/Data/ai4i2020.csv'\n",
    "\n",
    "# Read data\n",
    "df = pd.read_csv(file_path)\n",
    "\n",
    "# Display data information \n",
    "df.info(), df.head()\n"
   ]
  },
  {
   "cell_type": "code",
   "execution_count": 2,
   "metadata": {},
   "outputs": [
    {
     "name": "stdout",
     "output_type": "stream",
     "text": [
      "The number of elements with a value of 0 in column 'Tool wear [min]': 120\n",
      "The new Dataframe:\n",
      "        UDI Product ID Type  Air temperature [K]  Process temperature [K]  \\\n",
      "1         2     L47181    L                298.2                    308.7   \n",
      "2         3     L47182    L                298.1                    308.5   \n",
      "3         4     L47183    L                298.2                    308.6   \n",
      "4         5     L47184    L                298.2                    308.7   \n",
      "5         6     M14865    M                298.1                    308.6   \n",
      "...     ...        ...  ...                  ...                      ...   \n",
      "9995   9996     M24855    M                298.8                    308.4   \n",
      "9996   9997     H39410    H                298.9                    308.4   \n",
      "9997   9998     M24857    M                299.0                    308.6   \n",
      "9998   9999     H39412    H                299.0                    308.7   \n",
      "9999  10000     M24859    M                299.0                    308.7   \n",
      "\n",
      "      Rotational speed [rpm]  Torque [Nm]  Tool wear [min]  Machine failure  \\\n",
      "1                       1408         46.3                3                0   \n",
      "2                       1498         49.4                5                0   \n",
      "3                       1433         39.5                7                0   \n",
      "4                       1408         40.0                9                0   \n",
      "5                       1425         41.9               11                0   \n",
      "...                      ...          ...              ...              ...   \n",
      "9995                    1604         29.5               14                0   \n",
      "9996                    1632         31.8               17                0   \n",
      "9997                    1645         33.4               22                0   \n",
      "9998                    1408         48.5               25                0   \n",
      "9999                    1500         40.2               30                0   \n",
      "\n",
      "      TWF  HDF  PWF  OSF  RNF  \n",
      "1       0    0    0    0    0  \n",
      "2       0    0    0    0    0  \n",
      "3       0    0    0    0    0  \n",
      "4       0    0    0    0    0  \n",
      "5       0    0    0    0    0  \n",
      "...   ...  ...  ...  ...  ...  \n",
      "9995    0    0    0    0    0  \n",
      "9996    0    0    0    0    0  \n",
      "9997    0    0    0    0    0  \n",
      "9998    0    0    0    0    0  \n",
      "9999    0    0    0    0    0  \n",
      "\n",
      "[9880 rows x 14 columns]\n"
     ]
    }
   ],
   "source": [
    "import pandas as pd\n",
    "\n",
    "# Ckeck 0-values of the column 'Tool wear [min]'\n",
    "count_zeros = (df['Tool wear [min]'] == 0).sum()\n",
    "\n",
    "# Print the result\n",
    "print(f\"The number of elements with a value of 0 in column 'Tool wear [min]': {count_zeros}\")\n",
    "\n",
    "# Delete the rows got value 0 'Tool wear [min]'\n",
    "df = df[df['Tool wear [min]'] != 0]\n",
    "\n",
    "# Print the new Dataframe\n",
    "print(\"The new Dataframe:\")\n",
    "print(df)\n",
    "\n"
   ]
  },
  {
   "cell_type": "markdown",
   "metadata": {},
   "source": [
    "# **Tạo mảng để tính toán**"
   ]
  },
  {
   "cell_type": "code",
   "execution_count": 3,
   "metadata": {},
   "outputs": [],
   "source": [
    "# Input data into numpy array\n",
    "times = np.array(df['Tool wear [min]'])\n",
    "events = np.array(df['Machine failure'])"
   ]
  },
  {
   "cell_type": "markdown",
   "metadata": {},
   "source": [
    "# **Tính toán các giá trị hàm sống sót**"
   ]
  },
  {
   "cell_type": "code",
   "execution_count": 4,
   "metadata": {},
   "outputs": [],
   "source": [
    "# Calculate the values of the survival function\n",
    "unique_times = np.unique(times)  # Extract the unique time points\n",
    "survival_probabilities = []  # List that store the survival probabilities\n",
    "n_at_risk = len(times)  # Number of remaining subjects\n",
    "\n",
    "for t in unique_times:\n",
    "    # Count the number of events occurring at time t\n",
    "    d = np.sum(events[times == t])\n",
    "    # Update the survival probability\n",
    "    survival_prob = (n_at_risk - d) / n_at_risk if n_at_risk > 0 else 0\n",
    "    survival_probabilities.append(survival_prob)\n",
    "    # Update the number of remaining subjects\n",
    "    n_at_risk -= np.sum(times == t)\n",
    "\n",
    "# Calculate the cumulative survival probability\n",
    "cumulative_probabilities = [1.0]  # Start with the survival probability = 1\n",
    "for p in survival_probabilities:\n",
    "    cumulative_probabilities.append(cumulative_probabilities[-1] * p)"
   ]
  },
  {
   "cell_type": "markdown",
   "metadata": {},
   "source": [
    "# **Vẽ đồ thị**"
   ]
  },
  {
   "cell_type": "code",
   "execution_count": 5,
   "metadata": {},
   "outputs": [
    {
     "data": {
      "image/png": "[encoded data removed]",
      "text/plain": [
       "<Figure size 640x480 with 1 Axes>"
      ]
     },
     "metadata": {},
     "output_type": "display_data"
    }
   ],
   "source": [
    "# Create time values for the x-axis\n",
    "time_steps = [0] + list(unique_times)  # Add 0 to the time list to start from 0\n",
    "\n",
    "# Ensure survival_prob_steps has the same size as time_steps\n",
    "survival_prob_steps = [1.0]  # Add initial survival probability\n",
    "for p in survival_probabilities:\n",
    "    survival_prob_steps.append(survival_prob_steps[-1] * p)\n",
    "\n",
    "# Check the sizes of time_steps and survival_prob_steps\n",
    "if len(time_steps) != len(survival_prob_steps):\n",
    "    raise ValueError(f\"Size mismatch: time_steps={len(time_steps)}, survival_prob_steps={len(survival_prob_steps)}\")\n",
    "\n",
    "# Plot the Kaplan-Meier curve\n",
    "plt.step(time_steps, survival_prob_steps, where='post')\n",
    "plt.title('Kaplan-Meier Survival Curve')\n",
    "plt.xlabel('Time (units)')\n",
    "plt.ylabel('Survival Probability')\n",
    "plt.xticks(time_steps)\n",
    "plt.ylim(0, 1)  # Set y-axis limits from 0 to 1\n",
    "xticks = np.arange(0, int(max(times)) + 50, 100)  # Generate a list of step values\n",
    "plt.xticks(xticks)\n",
    "plt.grid()\n",
    "plt.show()\n"
   ]
  },
  {
   "cell_type": "markdown",
   "metadata": {},
   "source": [
    "# **So sánh với sử dụng thư viện**"
   ]
  },
  {
   "cell_type": "code",
   "execution_count": 6,
   "metadata": {},
   "outputs": [
    {
     "name": "stdout",
     "output_type": "stream",
     "text": [
      "Requirement already satisfied: lifelines in c:\\users\\dell\\appdata\\local\\programs\\python\\python312\\lib\\site-packages (0.29.0)\n",
      "Requirement already satisfied: numpy<2.0,>=1.14.0 in c:\\users\\dell\\appdata\\local\\programs\\python\\python312\\lib\\site-packages (from lifelines) (1.26.4)\n",
      "Requirement already satisfied: scipy>=1.7.0 in c:\\users\\dell\\appdata\\local\\programs\\python\\python312\\lib\\site-packages (from lifelines) (1.13.1)\n",
      "Requirement already satisfied: pandas>=2.1 in c:\\users\\dell\\appdata\\local\\programs\\python\\python312\\lib\\site-packages (from lifelines) (2.2.2)\n",
      "Requirement already satisfied: matplotlib>=3.0 in c:\\users\\dell\\appdata\\local\\programs\\python\\python312\\lib\\site-packages (from lifelines) (3.9.0)\n",
      "Requirement already satisfied: autograd>=1.5 in c:\\users\\dell\\appdata\\local\\programs\\python\\python312\\lib\\site-packages (from lifelines) (1.7.0)\n",
      "Requirement already satisfied: autograd-gamma>=0.3 in c:\\users\\dell\\appdata\\local\\programs\\python\\python312\\lib\\site-packages (from lifelines) (0.5.0)\n",
      "Requirement already satisfied: formulaic>=0.2.2 in c:\\users\\dell\\appdata\\local\\programs\\python\\python312\\lib\\site-packages (from lifelines) (1.0.2)\n",
      "Requirement already satisfied: interface-meta>=1.2.0 in c:\\users\\dell\\appdata\\local\\programs\\python\\python312\\lib\\site-packages (from formulaic>=0.2.2->lifelines) (1.3.0)\n",
      "Requirement already satisfied: typing-extensions>=4.2.0 in c:\\users\\dell\\appdata\\local\\programs\\python\\python312\\lib\\site-packages (from formulaic>=0.2.2->lifelines) (4.12.2)\n",
      "Requirement already satisfied: wrapt>=1.0 in c:\\users\\dell\\appdata\\local\\programs\\python\\python312\\lib\\site-packages (from formulaic>=0.2.2->lifelines) (1.16.0)\n",
      "Requirement already satisfied: contourpy>=1.0.1 in c:\\users\\dell\\appdata\\local\\programs\\python\\python312\\lib\\site-packages (from matplotlib>=3.0->lifelines) (1.2.1)\n",
      "Requirement already satisfied: cycler>=0.10 in c:\\users\\dell\\appdata\\local\\programs\\python\\python312\\lib\\site-packages (from matplotlib>=3.0->lifelines) (0.12.1)\n",
      "Requirement already satisfied: fonttools>=4.22.0 in c:\\users\\dell\\appdata\\local\\programs\\python\\python312\\lib\\site-packages (from matplotlib>=3.0->lifelines) (4.52.4)\n",
      "Requirement already satisfied: kiwisolver>=1.3.1 in c:\\users\\dell\\appdata\\local\\programs\\python\\python312\\lib\\site-packages (from matplotlib>=3.0->lifelines) (1.4.5)\n",
      "Requirement already satisfied: packaging>=20.0 in c:\\users\\dell\\appdata\\roaming\\python\\python312\\site-packages (from matplotlib>=3.0->lifelines) (24.0)\n",
      "Requirement already satisfied: pillow>=8 in c:\\users\\dell\\appdata\\local\\programs\\python\\python312\\lib\\site-packages (from matplotlib>=3.0->lifelines) (10.3.0)\n",
      "Requirement already satisfied: pyparsing>=2.3.1 in c:\\users\\dell\\appdata\\local\\programs\\python\\python312\\lib\\site-packages (from matplotlib>=3.0->lifelines) (3.1.2)\n",
      "Requirement already satisfied: python-dateutil>=2.7 in c:\\users\\dell\\appdata\\roaming\\python\\python312\\site-packages (from matplotlib>=3.0->lifelines) (2.9.0.post0)\n",
      "Requirement already satisfied: pytz>=2020.1 in c:\\users\\dell\\appdata\\local\\programs\\python\\python312\\lib\\site-packages (from pandas>=2.1->lifelines) (2024.1)\n",
      "Requirement already satisfied: tzdata>=2022.7 in c:\\users\\dell\\appdata\\local\\programs\\python\\python312\\lib\\site-packages (from pandas>=2.1->lifelines) (2024.1)\n",
      "Requirement already satisfied: six>=1.5 in c:\\users\\dell\\appdata\\roaming\\python\\python312\\site-packages (from python-dateutil>=2.7->matplotlib>=3.0->lifelines) (1.16.0)\n",
      "Note: you may need to restart the kernel to use updated packages.\n"
     ]
    },
    {
     "name": "stderr",
     "output_type": "stream",
     "text": [
      "\n",
      "[notice] A new release of pip is available: 24.0 -> 25.0\n",
      "[notice] To update, run: python.exe -m pip install --upgrade pip\n"
     ]
    }
   ],
   "source": [
    "pip install lifelines"
   ]
  },
  {
   "cell_type": "code",
   "execution_count": 7,
   "metadata": {},
   "outputs": [
    {
     "data": {
      "image/png": "[encoded data removed]",
      "text/plain": [
       "<Figure size 640x480 with 1 Axes>"
      ]
     },
     "metadata": {},
     "output_type": "display_data"
    }
   ],
   "source": [
    "from lifelines import KaplanMeierFitter\n",
    "\n",
    "# Đọc dữ liệu từ file CSV\n",
    "df = pd.read_csv('D:/Code ĐA2/Data/ai4i2020.csv')\n",
    "\n",
    "# Giả sử dữ liệu có hai cột: 'time' và 'event_occurred'\n",
    "#times = df['time']  # Thời gian\n",
    "#events = df['event_occurred']  # Sự kiện xảy ra (1 nếu sự kiện xảy ra, 0 nếu không)\n",
    "\n",
    "# Tạo đối tượng KaplanMeierFitter\n",
    "kmf = KaplanMeierFitter()\n",
    "\n",
    "# Fitting the data\n",
    "kmf.fit(durations=times, event_observed=events)\n",
    "\n",
    "# Vẽ biểu đồ Kaplan-Meier\n",
    "kmf.plot_survival_function()\n",
    "plt.title('Kaplan-Meier Survival Curve')\n",
    "plt.xlabel('Time (units)')\n",
    "plt.ylabel('Survival Probability')\n",
    "plt.grid()\n",
    "plt.show()\n"
   ]
  }
 ],
 "metadata": {
  "kernelspec": {
   "display_name": "Python 3",
   "language": "python",
   "name": "python3"
  },
  "language_info": {
   "codemirror_mode": {
    "name": "ipython",
    "version": 3
   },
   "file_extension": ".py",
   "mimetype": "text/x-python",
   "name": "python",
   "nbconvert_exporter": "python",
   "pygments_lexer": "ipython3",
   "version": "3.12.3"
  }
 },
 "nbformat": 4,
 "nbformat_minor": 2
}
