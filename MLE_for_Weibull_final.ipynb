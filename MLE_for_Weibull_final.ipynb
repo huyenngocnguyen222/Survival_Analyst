{
 "cells": [
  {
   "cell_type": "markdown",
   "metadata": {},
   "source": [
    "# **MLE FOR WEIBULL**\n",
    "*******************************"
   ]
  },
  {
   "cell_type": "markdown",
   "metadata": {},
   "source": [
    "# **Cài đặt thư viện và biểu diễn dữ liệu**"
   ]
  },
  {
   "cell_type": "code",
   "execution_count": 1,
   "metadata": {},
   "outputs": [
    {
     "name": "stdout",
     "output_type": "stream",
     "text": [
      "<class 'pandas.core.frame.DataFrame'>\n",
      "RangeIndex: 10000 entries, 0 to 9999\n",
      "Data columns (total 14 columns):\n",
      " #   Column                   Non-Null Count  Dtype  \n",
      "---  ------                   --------------  -----  \n",
      " 0   UDI                      10000 non-null  int64  \n",
      " 1   Product ID               10000 non-null  object \n",
      " 2   Type                     10000 non-null  object \n",
      " 3   Air temperature [K]      10000 non-null  float64\n",
      " 4   Process temperature [K]  10000 non-null  float64\n",
      " 5   Rotational speed [rpm]   10000 non-null  int64  \n",
      " 6   Torque [Nm]              10000 non-null  float64\n",
      " 7   Tool wear [min]          10000 non-null  int64  \n",
      " 8   Machine failure          10000 non-null  int64  \n",
      " 9   TWF                      10000 non-null  int64  \n",
      " 10  HDF                      10000 non-null  int64  \n",
      " 11  PWF                      10000 non-null  int64  \n",
      " 12  OSF                      10000 non-null  int64  \n",
      " 13  RNF                      10000 non-null  int64  \n",
      "dtypes: float64(3), int64(9), object(2)\n",
      "memory usage: 1.1+ MB\n"
     ]
    },
    {
     "data": {
      "text/plain": [
       "(None,\n",
       "    UDI Product ID Type  Air temperature [K]  Process temperature [K]  \\\n",
       " 0    1     M14860    M                298.1                    308.6   \n",
       " 1    2     L47181    L                298.2                    308.7   \n",
       " 2    3     L47182    L                298.1                    308.5   \n",
       " 3    4     L47183    L                298.2                    308.6   \n",
       " 4    5     L47184    L                298.2                    308.7   \n",
       " \n",
       "    Rotational speed [rpm]  Torque [Nm]  Tool wear [min]  Machine failure  TWF  \\\n",
       " 0                    1551         42.8                0                0    0   \n",
       " 1                    1408         46.3                3                0    0   \n",
       " 2                    1498         49.4                5                0    0   \n",
       " 3                    1433         39.5                7                0    0   \n",
       " 4                    1408         40.0                9                0    0   \n",
       " \n",
       "    HDF  PWF  OSF  RNF  \n",
       " 0    0    0    0    0  \n",
       " 1    0    0    0    0  \n",
       " 2    0    0    0    0  \n",
       " 3    0    0    0    0  \n",
       " 4    0    0    0    0  )"
      ]
     },
     "execution_count": 1,
     "metadata": {},
     "output_type": "execute_result"
    }
   ],
   "source": [
    "import pandas as pd\n",
    "import numpy as np\n",
    "import matplotlib.pyplot as plt\n",
    "\n",
    "# Read data from the CSV file\n",
    "file_path = 'D:/Code ĐA2/Data/ai4i2020.csv'\n",
    "\n",
    "# Load the dataset\n",
    "df = pd.read_csv(file_path)\n",
    "\n",
    "# Display basic information about the dataset\n",
    "df.info(), df.head()\n"
   ]
  },
  {
   "cell_type": "code",
   "execution_count": 2,
   "metadata": {},
   "outputs": [
    {
     "name": "stdout",
     "output_type": "stream",
     "text": [
      "Number of elements equal to 0 in the 'Tool wear [min]' column: 120\n",
      "DataFrame after removing rows with 0 values in the 'Tool wear [min]' column:\n",
      "        UDI Product ID Type  Air temperature [K]  Process temperature [K]  \\\n",
      "1         2     L47181    L                298.2                    308.7   \n",
      "2         3     L47182    L                298.1                    308.5   \n",
      "3         4     L47183    L                298.2                    308.6   \n",
      "4         5     L47184    L                298.2                    308.7   \n",
      "5         6     M14865    M                298.1                    308.6   \n",
      "...     ...        ...  ...                  ...                      ...   \n",
      "9995   9996     M24855    M                298.8                    308.4   \n",
      "9996   9997     H39410    H                298.9                    308.4   \n",
      "9997   9998     M24857    M                299.0                    308.6   \n",
      "9998   9999     H39412    H                299.0                    308.7   \n",
      "9999  10000     M24859    M                299.0                    308.7   \n",
      "\n",
      "      Rotational speed [rpm]  Torque [Nm]  Tool wear [min]  Machine failure  \\\n",
      "1                       1408         46.3                3                0   \n",
      "2                       1498         49.4                5                0   \n",
      "3                       1433         39.5                7                0   \n",
      "4                       1408         40.0                9                0   \n",
      "5                       1425         41.9               11                0   \n",
      "...                      ...          ...              ...              ...   \n",
      "9995                    1604         29.5               14                0   \n",
      "9996                    1632         31.8               17                0   \n",
      "9997                    1645         33.4               22                0   \n",
      "9998                    1408         48.5               25                0   \n",
      "9999                    1500         40.2               30                0   \n",
      "\n",
      "      TWF  HDF  PWF  OSF  RNF  \n",
      "1       0    0    0    0    0  \n",
      "2       0    0    0    0    0  \n",
      "3       0    0    0    0    0  \n",
      "4       0    0    0    0    0  \n",
      "5       0    0    0    0    0  \n",
      "...   ...  ...  ...  ...  ...  \n",
      "9995    0    0    0    0    0  \n",
      "9996    0    0    0    0    0  \n",
      "9997    0    0    0    0    0  \n",
      "9998    0    0    0    0    0  \n",
      "9999    0    0    0    0    0  \n",
      "\n",
      "[9880 rows x 14 columns]\n"
     ]
    }
   ],
   "source": [
    "import pandas as pd\n",
    "\n",
    "# Assume df is your DataFrame and 'Tool wear [min]' is the column you want to check\n",
    "count_zeros = (df['Tool wear [min]'] == 0).sum()\n",
    "\n",
    "# Print the result\n",
    "print(f\"Number of elements equal to 0 in the 'Tool wear [min]' column: {count_zeros}\")\n",
    "\n",
    "# Remove rows where the value is 0 in the 'Tool wear [min]' column\n",
    "df = df[df['Tool wear [min]'] != 0]\n",
    "\n",
    "# Print the DataFrame after removal\n",
    "print(\"DataFrame after removing rows with 0 values in the 'Tool wear [min]' column:\")\n",
    "print(df)\n",
    "\n"
   ]
  },
  {
   "cell_type": "markdown",
   "metadata": {},
   "source": [
    "# **Tính toán giá trị tham số**"
   ]
  },
  {
   "cell_type": "code",
   "execution_count": 3,
   "metadata": {},
   "outputs": [
    {
     "name": "stdout",
     "output_type": "stream",
     "text": [
      "Requirement already satisfied: numpy in c:\\users\\dell\\appdata\\local\\programs\\python\\python312\\lib\\site-packages (1.26.4)\n",
      "Requirement already satisfied: scipy in c:\\users\\dell\\appdata\\local\\programs\\python\\python312\\lib\\site-packages (1.13.1)\n",
      "Requirement already satisfied: matplotlib in c:\\users\\dell\\appdata\\local\\programs\\python\\python312\\lib\\site-packages (3.9.0)\n",
      "Requirement already satisfied: contourpy>=1.0.1 in c:\\users\\dell\\appdata\\local\\programs\\python\\python312\\lib\\site-packages (from matplotlib) (1.2.1)\n",
      "Requirement already satisfied: cycler>=0.10 in c:\\users\\dell\\appdata\\local\\programs\\python\\python312\\lib\\site-packages (from matplotlib) (0.12.1)\n",
      "Requirement already satisfied: fonttools>=4.22.0 in c:\\users\\dell\\appdata\\local\\programs\\python\\python312\\lib\\site-packages (from matplotlib) (4.52.4)\n",
      "Requirement already satisfied: kiwisolver>=1.3.1 in c:\\users\\dell\\appdata\\local\\programs\\python\\python312\\lib\\site-packages (from matplotlib) (1.4.5)\n",
      "Requirement already satisfied: packaging>=20.0 in c:\\users\\dell\\appdata\\roaming\\python\\python312\\site-packages (from matplotlib) (24.0)\n",
      "Requirement already satisfied: pillow>=8 in c:\\users\\dell\\appdata\\local\\programs\\python\\python312\\lib\\site-packages (from matplotlib) (10.3.0)\n",
      "Requirement already satisfied: pyparsing>=2.3.1 in c:\\users\\dell\\appdata\\local\\programs\\python\\python312\\lib\\site-packages (from matplotlib) (3.1.2)\n",
      "Requirement already satisfied: python-dateutil>=2.7 in c:\\users\\dell\\appdata\\roaming\\python\\python312\\site-packages (from matplotlib) (2.9.0.post0)\n",
      "Requirement already satisfied: six>=1.5 in c:\\users\\dell\\appdata\\roaming\\python\\python312\\site-packages (from python-dateutil>=2.7->matplotlib) (1.16.0)\n",
      "Note: you may need to restart the kernel to use updated packages.\n"
     ]
    },
    {
     "name": "stderr",
     "output_type": "stream",
     "text": [
      "\n",
      "[notice] A new release of pip is available: 24.0 -> 25.0\n",
      "[notice] To update, run: python.exe -m pip install --upgrade pip\n"
     ]
    }
   ],
   "source": [
    "pip install numpy scipy matplotlib"
   ]
  },
  {
   "cell_type": "code",
   "execution_count": 4,
   "metadata": {},
   "outputs": [],
   "source": [
    "from scipy.optimize import minimize"
   ]
  },
  {
   "cell_type": "code",
   "execution_count": 5,
   "metadata": {},
   "outputs": [
    {
     "name": "stdout",
     "output_type": "stream",
     "text": [
      "Estimated Weibull parameters:\n",
      "Scale (lambda): 0.002051171308980882\n",
      "Shape (p): 2.61200243085315\n"
     ]
    }
   ],
   "source": [
    "data = df['Tool wear [min]'].values  # Observation times\n",
    "events = df['Machine failure'].values  # Event indicator variable (1: event occurred, 0: censored)\n",
    "\n",
    "# Log-likelihood function for the Weibull distribution\n",
    "def weibull_log_likelihood(params, data, events):\n",
    "    lambda_, p = params\n",
    "    log_likelihood = 0\n",
    "    \n",
    "    if lambda_ <= 0:  # Check if lambda is valid\n",
    "        return -np.inf  # Return -inf if lambda is invalid\n",
    "\n",
    "    for i in range(len(data)):\n",
    "        if data[i] <= 0:  # Skip invalid values\n",
    "            continue\n",
    "\n",
    "        if events[i] == 1:  # Event occurred\n",
    "            log_likelihood += (np.log(p) + np.log(lambda_) + \n",
    "                               (p - 1) * np.log(lambda_ * data[i]) - \n",
    "                               (lambda_ * data[i]) ** p)\n",
    "        else:  # Event did not occur (censored)\n",
    "            log_likelihood -= (lambda_ * data[i]) ** p\n",
    "\n",
    "    return log_likelihood\n",
    "\n",
    "# Negative log-likelihood function for the Weibull distribution\n",
    "def weibull_negative_log_likelihood(params, data, events):\n",
    "    return -weibull_log_likelihood(params, data, events)  # Return negative log-likelihood\n",
    "\n",
    "# Initial parameters\n",
    "initial_params = [1.0, 5.0]  # [lambda, p] with reasonable positive initial values\n",
    "\n",
    "# Use minimize to find the optimal parameters\n",
    "result = minimize(weibull_negative_log_likelihood, initial_params, args=(data, events), \n",
    "                  bounds=((1e-5, None), (1e-5, None)), method='L-BFGS-B')\n",
    "\n",
    "# Extract the estimated parameters\n",
    "lambda_est, p_est = result.x\n",
    "#print(f'Initial parameters: \\n(lambda,p): {initial_params}')\n",
    "print(f'Estimated Weibull parameters:\\nScale (lambda): {lambda_est}\\nShape (p): {p_est}')\n"
   ]
  },
  {
   "cell_type": "code",
   "execution_count": 6,
   "metadata": {},
   "outputs": [
    {
     "data": {
      "image/png": "[encoded data removed]",
      "text/plain": [
       "<Figure size 640x480 with 1 Axes>"
      ]
     },
     "metadata": {},
     "output_type": "display_data"
    }
   ],
   "source": [
    "\n",
    "# Generate values of t from 0 to 500\n",
    "t_values = np.linspace(0, 300, 100)\n",
    "# Calculate S(t) = exp(-lambda * t)^p\n",
    "S_t_values = np.exp(-(lambda_est * t_values) ** p_est)\n",
    "\n",
    "# Plot the survival function S(t)\n",
    "plt.plot(t_values, S_t_values, 'b-', label=r'$S(t) = \\exp(-\\lambda t)^p$')\n",
    "plt.title(r'Survival Function $S(t) = \\exp(-\\lambda t)^p$')\n",
    "plt.xlabel('Time (Tool wear [min])')\n",
    "plt.ylabel('Survival Probability')\n",
    "plt.ylim(0, 1.1)\n",
    "plt.xlim(0, 300)\n",
    "plt.legend()\n",
    "plt.grid(True)\n",
    "plt.show()\n"
   ]
  }
 ],
 "metadata": {
  "kernelspec": {
   "display_name": "Python 3",
   "language": "python",
   "name": "python3"
  },
  "language_info": {
   "codemirror_mode": {
    "name": "ipython",
    "version": 3
   },
   "file_extension": ".py",
   "mimetype": "text/x-python",
   "name": "python",
   "nbconvert_exporter": "python",
   "pygments_lexer": "ipython3",
   "version": "3.12.3"
  }
 },
 "nbformat": 4,
 "nbformat_minor": 2
}
